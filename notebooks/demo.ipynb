{
 "cells": [
  {
   "cell_type": "markdown",
   "metadata": {},
   "source": [
    "# **Learning a signed graph from GSD Dataset**\n",
    "\n",
    "In this notebook, we will learn a signed graph from GSD dataset, taken from [1] and also studied in \n",
    "the paper. We start with importing necessary packages. "
   ]
  },
  {
   "cell_type": "code",
   "execution_count": 3,
   "metadata": {},
   "outputs": [],
   "source": [
    "import os\n",
    "\n",
    "import pandas as pd # to load read GSD dataset\n",
    "import numpy as np\n",
    "\n",
    "import project_path # for this notebook to be able to import from pysrc folder\n",
    "\n",
    "\n",
    "# Project folder\n",
    "parent_dir = os.path.abspath(os.path.join(os.pardir)) "
   ]
  },
  {
   "cell_type": "code",
   "execution_count": 4,
   "metadata": {},
   "outputs": [
    {
     "name": "stderr",
     "output_type": "stream",
     "text": [
      "R[write to console]: Error in library.dynam(lib, package, package.lib) : \n",
      "  shared object ‘methods.dylib’ not found\n",
      "\n"
     ]
    },
    {
     "ename": "RRuntimeError",
     "evalue": "Error in library.dynam(lib, package, package.lib) : \n  shared object ‘methods.dylib’ not found\n",
     "output_type": "error",
     "traceback": [
      "\u001b[0;31m---------------------------------------------------------------------------\u001b[0m",
      "\u001b[0;31mRRuntimeError\u001b[0m                             Traceback (most recent call last)",
      "Input \u001b[0;32mIn [4]\u001b[0m, in \u001b[0;36m<cell line: 1>\u001b[0;34m()\u001b[0m\n\u001b[0;32m----> 1\u001b[0m \u001b[38;5;28;01mfrom\u001b[39;00m \u001b[38;5;21;01mpysrc\u001b[39;00m\u001b[38;5;21;01m.\u001b[39;00m\u001b[38;5;21;01mgraphlearning\u001b[39;00m \u001b[38;5;28;01mimport\u001b[39;00m learn_signed_graph\n",
      "File \u001b[0;32m~/Desktop/Projects/BEELINE/scSGL/pysrc/graphlearning/__init__.py:27\u001b[0m, in \u001b[0;36m<module>\u001b[0;34m\u001b[0m\n\u001b[1;32m     25\u001b[0m \u001b[38;5;28;01mfrom\u001b[39;00m \u001b[38;5;21;01m.\u001b[39;00m \u001b[38;5;28;01mimport\u001b[39;00m unsigned\n\u001b[1;32m     26\u001b[0m \u001b[38;5;28;01mfrom\u001b[39;00m \u001b[38;5;21;01m.\u001b[39;00m \u001b[38;5;28;01mimport\u001b[39;00m signed\n\u001b[0;32m---> 27\u001b[0m \u001b[38;5;28;01mfrom\u001b[39;00m \u001b[38;5;21;01m.\u001b[39;00m\u001b[38;5;21;01m.\u001b[39;00m\u001b[38;5;21;01massociations\u001b[39;00m \u001b[38;5;28;01mimport\u001b[39;00m correlation, dotprod, proprho, zikendall\n\u001b[1;32m     29\u001b[0m \u001b[38;5;28;01mdef\u001b[39;00m \u001b[38;5;21m_find_bs_upper_bound\u001b[39m(k, d, density):\n\u001b[1;32m     30\u001b[0m     \u001b[38;5;28;01mfor\u001b[39;00m i \u001b[38;5;129;01min\u001b[39;00m \u001b[38;5;28mrange\u001b[39m(\u001b[38;5;241m1\u001b[39m, \u001b[38;5;241m100\u001b[39m):\n",
      "File \u001b[0;32m~/Desktop/Projects/BEELINE/scSGL/pysrc/associations/zikendall.py:29\u001b[0m, in \u001b[0;36m<module>\u001b[0;34m\u001b[0m\n\u001b[1;32m     25\u001b[0m \u001b[38;5;28;01mfrom\u001b[39;00m \u001b[38;5;21;01mscipy\u001b[39;00m \u001b[38;5;28;01mimport\u001b[39;00m stats\n\u001b[1;32m     27\u001b[0m \u001b[38;5;28;01mfrom\u001b[39;00m \u001b[38;5;21;01m.\u001b[39;00m \u001b[38;5;28;01mimport\u001b[39;00m utils\n\u001b[0;32m---> 29\u001b[0m \u001b[38;5;28;01mfrom\u001b[39;00m \u001b[38;5;21;01mrpy2\u001b[39;00m \u001b[38;5;28;01mimport\u001b[39;00m robjects\n\u001b[1;32m     30\u001b[0m \u001b[38;5;28;01mfrom\u001b[39;00m \u001b[38;5;21;01mrpy2\u001b[39;00m\u001b[38;5;21;01m.\u001b[39;00m\u001b[38;5;21;01mrobjects\u001b[39;00m\u001b[38;5;21;01m.\u001b[39;00m\u001b[38;5;21;01mpackages\u001b[39;00m \u001b[38;5;28;01mimport\u001b[39;00m importr\n\u001b[1;32m     31\u001b[0m \u001b[38;5;28;01mfrom\u001b[39;00m \u001b[38;5;21;01mrpy2\u001b[39;00m\u001b[38;5;21;01m.\u001b[39;00m\u001b[38;5;21;01mrobjects\u001b[39;00m \u001b[38;5;28;01mimport\u001b[39;00m numpy2ri\n",
      "File \u001b[0;32m~/opt/anaconda3/envs/sgl1/lib/python3.8/site-packages/rpy2/robjects/__init__.py:19\u001b[0m, in \u001b[0;36m<module>\u001b[0;34m\u001b[0m\n\u001b[1;32m     16\u001b[0m \u001b[38;5;28;01mimport\u001b[39;00m \u001b[38;5;21;01mrpy2\u001b[39;00m\u001b[38;5;21;01m.\u001b[39;00m\u001b[38;5;21;01mrinterface\u001b[39;00m \u001b[38;5;28;01mas\u001b[39;00m \u001b[38;5;21;01mrinterface\u001b[39;00m\n\u001b[1;32m     17\u001b[0m \u001b[38;5;28;01mimport\u001b[39;00m \u001b[38;5;21;01mrpy2\u001b[39;00m\u001b[38;5;21;01m.\u001b[39;00m\u001b[38;5;21;01mrlike\u001b[39;00m\u001b[38;5;21;01m.\u001b[39;00m\u001b[38;5;21;01mcontainer\u001b[39;00m \u001b[38;5;28;01mas\u001b[39;00m \u001b[38;5;21;01mrlc\u001b[39;00m\n\u001b[0;32m---> 19\u001b[0m \u001b[38;5;28;01mfrom\u001b[39;00m \u001b[38;5;21;01mrpy2\u001b[39;00m\u001b[38;5;21;01m.\u001b[39;00m\u001b[38;5;21;01mrobjects\u001b[39;00m\u001b[38;5;21;01m.\u001b[39;00m\u001b[38;5;21;01mrobject\u001b[39;00m \u001b[38;5;28;01mimport\u001b[39;00m RObjectMixin, RObject\n\u001b[1;32m     20\u001b[0m \u001b[38;5;28;01mimport\u001b[39;00m \u001b[38;5;21;01mrpy2\u001b[39;00m\u001b[38;5;21;01m.\u001b[39;00m\u001b[38;5;21;01mrobjects\u001b[39;00m\u001b[38;5;21;01m.\u001b[39;00m\u001b[38;5;21;01mfunctions\u001b[39;00m\n\u001b[1;32m     21\u001b[0m \u001b[38;5;28;01mfrom\u001b[39;00m \u001b[38;5;21;01mrpy2\u001b[39;00m\u001b[38;5;21;01m.\u001b[39;00m\u001b[38;5;21;01mrobjects\u001b[39;00m\u001b[38;5;21;01m.\u001b[39;00m\u001b[38;5;21;01menvironments\u001b[39;00m \u001b[38;5;28;01mimport\u001b[39;00m (Environment,\n\u001b[1;32m     22\u001b[0m                                         local_context)\n",
      "File \u001b[0;32m~/opt/anaconda3/envs/sgl1/lib/python3.8/site-packages/rpy2/robjects/robject.py:58\u001b[0m, in \u001b[0;36m<module>\u001b[0;34m\u001b[0m\n\u001b[1;32m     52\u001b[0m             \u001b[38;5;28;01myield\u001b[39;00m v\n\u001b[1;32m     55\u001b[0m _get_exported_value \u001b[38;5;241m=\u001b[39m rpy2\u001b[38;5;241m.\u001b[39mrinterface\u001b[38;5;241m.\u001b[39mbaseenv[\u001b[38;5;124m'\u001b[39m\u001b[38;5;124m::\u001b[39m\u001b[38;5;124m'\u001b[39m]\n\u001b[0;32m---> 58\u001b[0m \u001b[38;5;28;01mclass\u001b[39;00m \u001b[38;5;21;01mRObjectMixin\u001b[39;00m(\u001b[38;5;28mobject\u001b[39m):\n\u001b[1;32m     59\u001b[0m     \u001b[38;5;124;03m\"\"\" Class to provide methods common to all RObject instances. \"\"\"\u001b[39;00m\n\u001b[1;32m     61\u001b[0m     __rname__ \u001b[38;5;241m=\u001b[39m \u001b[38;5;28;01mNone\u001b[39;00m\n",
      "File \u001b[0;32m~/opt/anaconda3/envs/sgl1/lib/python3.8/site-packages/rpy2/robjects/robject.py:70\u001b[0m, in \u001b[0;36mRObjectMixin\u001b[0;34m()\u001b[0m\n\u001b[1;32m     68\u001b[0m __readlines \u001b[38;5;241m=\u001b[39m rpy2\u001b[38;5;241m.\u001b[39mrinterface\u001b[38;5;241m.\u001b[39mbaseenv\u001b[38;5;241m.\u001b[39mfind(\u001b[38;5;124m\"\u001b[39m\u001b[38;5;124mreadLines\u001b[39m\u001b[38;5;124m\"\u001b[39m)\n\u001b[1;32m     69\u001b[0m __unlink \u001b[38;5;241m=\u001b[39m rpy2\u001b[38;5;241m.\u001b[39mrinterface\u001b[38;5;241m.\u001b[39mbaseenv\u001b[38;5;241m.\u001b[39mfind(\u001b[38;5;124m\"\u001b[39m\u001b[38;5;124munlink\u001b[39m\u001b[38;5;124m\"\u001b[39m)\n\u001b[0;32m---> 70\u001b[0m __show \u001b[38;5;241m=\u001b[39m \u001b[43m_get_exported_value\u001b[49m\u001b[43m(\u001b[49m\u001b[38;5;124;43m'\u001b[39;49m\u001b[38;5;124;43mmethods\u001b[39;49m\u001b[38;5;124;43m'\u001b[39;49m\u001b[43m,\u001b[49m\u001b[43m \u001b[49m\u001b[38;5;124;43m'\u001b[39;49m\u001b[38;5;124;43mshow\u001b[39;49m\u001b[38;5;124;43m'\u001b[39;49m\u001b[43m)\u001b[49m\n\u001b[1;32m     72\u001b[0m __slots \u001b[38;5;241m=\u001b[39m \u001b[38;5;28;01mNone\u001b[39;00m\n\u001b[1;32m     74\u001b[0m \u001b[38;5;129m@property\u001b[39m\n\u001b[1;32m     75\u001b[0m \u001b[38;5;28;01mdef\u001b[39;00m \u001b[38;5;21mslots\u001b[39m(\u001b[38;5;28mself\u001b[39m):\n",
      "File \u001b[0;32m~/opt/anaconda3/envs/sgl1/lib/python3.8/site-packages/rpy2/rinterface_lib/conversion.py:45\u001b[0m, in \u001b[0;36m_cdata_res_to_rinterface.<locals>._\u001b[0;34m(*args, **kwargs)\u001b[0m\n\u001b[1;32m     44\u001b[0m \u001b[38;5;28;01mdef\u001b[39;00m \u001b[38;5;21m_\u001b[39m(\u001b[38;5;241m*\u001b[39margs, \u001b[38;5;241m*\u001b[39m\u001b[38;5;241m*\u001b[39mkwargs):\n\u001b[0;32m---> 45\u001b[0m     cdata \u001b[38;5;241m=\u001b[39m \u001b[43mfunction\u001b[49m\u001b[43m(\u001b[49m\u001b[38;5;241;43m*\u001b[39;49m\u001b[43margs\u001b[49m\u001b[43m,\u001b[49m\u001b[43m \u001b[49m\u001b[38;5;241;43m*\u001b[39;49m\u001b[38;5;241;43m*\u001b[39;49m\u001b[43mkwargs\u001b[49m\u001b[43m)\u001b[49m\n\u001b[1;32m     46\u001b[0m     \u001b[38;5;66;03m# TODO: test cdata is of the expected CType\u001b[39;00m\n\u001b[1;32m     47\u001b[0m     \u001b[38;5;28;01mreturn\u001b[39;00m _cdata_to_rinterface(cdata)\n",
      "File \u001b[0;32m~/opt/anaconda3/envs/sgl1/lib/python3.8/site-packages/rpy2/rinterface.py:680\u001b[0m, in \u001b[0;36mSexpClosure.__call__\u001b[0;34m(self, *args, **kwargs)\u001b[0m\n\u001b[1;32m    673\u001b[0m     res \u001b[38;5;241m=\u001b[39m rmemory\u001b[38;5;241m.\u001b[39mprotect(\n\u001b[1;32m    674\u001b[0m         openrlib\u001b[38;5;241m.\u001b[39mrlib\u001b[38;5;241m.\u001b[39mR_tryEval(\n\u001b[1;32m    675\u001b[0m             call_r,\n\u001b[1;32m    676\u001b[0m             call_context\u001b[38;5;241m.\u001b[39m__sexp__\u001b[38;5;241m.\u001b[39m_cdata,\n\u001b[1;32m    677\u001b[0m             error_occured)\n\u001b[1;32m    678\u001b[0m     )\n\u001b[1;32m    679\u001b[0m     \u001b[38;5;28;01mif\u001b[39;00m error_occured[\u001b[38;5;241m0\u001b[39m]:\n\u001b[0;32m--> 680\u001b[0m         \u001b[38;5;28;01mraise\u001b[39;00m embedded\u001b[38;5;241m.\u001b[39mRRuntimeError(_rinterface\u001b[38;5;241m.\u001b[39m_geterrmessage())\n\u001b[1;32m    681\u001b[0m \u001b[38;5;28;01mreturn\u001b[39;00m res\n",
      "\u001b[0;31mRRuntimeError\u001b[0m: Error in library.dynam(lib, package, package.lib) : \n  shared object ‘methods.dylib’ not found\n"
     ]
    }
   ],
   "source": [
    "from pysrc.graphlearning import learn_signed_graph\n"
   ]
  },
  {
   "cell_type": "code",
   "execution_count": 6,
   "metadata": {},
   "outputs": [
    {
     "name": "stderr",
     "output_type": "stream",
     "text": [
      "R[write to console]: Error in library.dynam(lib, package, package.lib) : \n",
      "  shared object ‘methods.dylib’ not found\n",
      "\n"
     ]
    },
    {
     "ename": "RRuntimeError",
     "evalue": "Error in library.dynam(lib, package, package.lib) : \n  shared object ‘methods.dylib’ not found\n",
     "output_type": "error",
     "traceback": [
      "\u001b[0;31m---------------------------------------------------------------------------\u001b[0m",
      "\u001b[0;31mRRuntimeError\u001b[0m                             Traceback (most recent call last)",
      "Input \u001b[0;32mIn [6]\u001b[0m, in \u001b[0;36m<cell line: 1>\u001b[0;34m()\u001b[0m\n\u001b[0;32m----> 1\u001b[0m \u001b[38;5;28;01mfrom\u001b[39;00m \u001b[38;5;21;01mrpy2\u001b[39;00m \u001b[38;5;28;01mimport\u001b[39;00m robjects\n",
      "File \u001b[0;32m~/opt/anaconda3/envs/sgl1/lib/python3.8/site-packages/rpy2/robjects/__init__.py:19\u001b[0m, in \u001b[0;36m<module>\u001b[0;34m\u001b[0m\n\u001b[1;32m     16\u001b[0m \u001b[38;5;28;01mimport\u001b[39;00m \u001b[38;5;21;01mrpy2\u001b[39;00m\u001b[38;5;21;01m.\u001b[39;00m\u001b[38;5;21;01mrinterface\u001b[39;00m \u001b[38;5;28;01mas\u001b[39;00m \u001b[38;5;21;01mrinterface\u001b[39;00m\n\u001b[1;32m     17\u001b[0m \u001b[38;5;28;01mimport\u001b[39;00m \u001b[38;5;21;01mrpy2\u001b[39;00m\u001b[38;5;21;01m.\u001b[39;00m\u001b[38;5;21;01mrlike\u001b[39;00m\u001b[38;5;21;01m.\u001b[39;00m\u001b[38;5;21;01mcontainer\u001b[39;00m \u001b[38;5;28;01mas\u001b[39;00m \u001b[38;5;21;01mrlc\u001b[39;00m\n\u001b[0;32m---> 19\u001b[0m \u001b[38;5;28;01mfrom\u001b[39;00m \u001b[38;5;21;01mrpy2\u001b[39;00m\u001b[38;5;21;01m.\u001b[39;00m\u001b[38;5;21;01mrobjects\u001b[39;00m\u001b[38;5;21;01m.\u001b[39;00m\u001b[38;5;21;01mrobject\u001b[39;00m \u001b[38;5;28;01mimport\u001b[39;00m RObjectMixin, RObject\n\u001b[1;32m     20\u001b[0m \u001b[38;5;28;01mimport\u001b[39;00m \u001b[38;5;21;01mrpy2\u001b[39;00m\u001b[38;5;21;01m.\u001b[39;00m\u001b[38;5;21;01mrobjects\u001b[39;00m\u001b[38;5;21;01m.\u001b[39;00m\u001b[38;5;21;01mfunctions\u001b[39;00m\n\u001b[1;32m     21\u001b[0m \u001b[38;5;28;01mfrom\u001b[39;00m \u001b[38;5;21;01mrpy2\u001b[39;00m\u001b[38;5;21;01m.\u001b[39;00m\u001b[38;5;21;01mrobjects\u001b[39;00m\u001b[38;5;21;01m.\u001b[39;00m\u001b[38;5;21;01menvironments\u001b[39;00m \u001b[38;5;28;01mimport\u001b[39;00m (Environment,\n\u001b[1;32m     22\u001b[0m                                         local_context)\n",
      "File \u001b[0;32m~/opt/anaconda3/envs/sgl1/lib/python3.8/site-packages/rpy2/robjects/robject.py:58\u001b[0m, in \u001b[0;36m<module>\u001b[0;34m\u001b[0m\n\u001b[1;32m     52\u001b[0m             \u001b[38;5;28;01myield\u001b[39;00m v\n\u001b[1;32m     55\u001b[0m _get_exported_value \u001b[38;5;241m=\u001b[39m rpy2\u001b[38;5;241m.\u001b[39mrinterface\u001b[38;5;241m.\u001b[39mbaseenv[\u001b[38;5;124m'\u001b[39m\u001b[38;5;124m::\u001b[39m\u001b[38;5;124m'\u001b[39m]\n\u001b[0;32m---> 58\u001b[0m \u001b[38;5;28;01mclass\u001b[39;00m \u001b[38;5;21;01mRObjectMixin\u001b[39;00m(\u001b[38;5;28mobject\u001b[39m):\n\u001b[1;32m     59\u001b[0m     \u001b[38;5;124;03m\"\"\" Class to provide methods common to all RObject instances. \"\"\"\u001b[39;00m\n\u001b[1;32m     61\u001b[0m     __rname__ \u001b[38;5;241m=\u001b[39m \u001b[38;5;28;01mNone\u001b[39;00m\n",
      "File \u001b[0;32m~/opt/anaconda3/envs/sgl1/lib/python3.8/site-packages/rpy2/robjects/robject.py:70\u001b[0m, in \u001b[0;36mRObjectMixin\u001b[0;34m()\u001b[0m\n\u001b[1;32m     68\u001b[0m __readlines \u001b[38;5;241m=\u001b[39m rpy2\u001b[38;5;241m.\u001b[39mrinterface\u001b[38;5;241m.\u001b[39mbaseenv\u001b[38;5;241m.\u001b[39mfind(\u001b[38;5;124m\"\u001b[39m\u001b[38;5;124mreadLines\u001b[39m\u001b[38;5;124m\"\u001b[39m)\n\u001b[1;32m     69\u001b[0m __unlink \u001b[38;5;241m=\u001b[39m rpy2\u001b[38;5;241m.\u001b[39mrinterface\u001b[38;5;241m.\u001b[39mbaseenv\u001b[38;5;241m.\u001b[39mfind(\u001b[38;5;124m\"\u001b[39m\u001b[38;5;124munlink\u001b[39m\u001b[38;5;124m\"\u001b[39m)\n\u001b[0;32m---> 70\u001b[0m __show \u001b[38;5;241m=\u001b[39m \u001b[43m_get_exported_value\u001b[49m\u001b[43m(\u001b[49m\u001b[38;5;124;43m'\u001b[39;49m\u001b[38;5;124;43mmethods\u001b[39;49m\u001b[38;5;124;43m'\u001b[39;49m\u001b[43m,\u001b[49m\u001b[43m \u001b[49m\u001b[38;5;124;43m'\u001b[39;49m\u001b[38;5;124;43mshow\u001b[39;49m\u001b[38;5;124;43m'\u001b[39;49m\u001b[43m)\u001b[49m\n\u001b[1;32m     72\u001b[0m __slots \u001b[38;5;241m=\u001b[39m \u001b[38;5;28;01mNone\u001b[39;00m\n\u001b[1;32m     74\u001b[0m \u001b[38;5;129m@property\u001b[39m\n\u001b[1;32m     75\u001b[0m \u001b[38;5;28;01mdef\u001b[39;00m \u001b[38;5;21mslots\u001b[39m(\u001b[38;5;28mself\u001b[39m):\n",
      "File \u001b[0;32m~/opt/anaconda3/envs/sgl1/lib/python3.8/site-packages/rpy2/rinterface_lib/conversion.py:45\u001b[0m, in \u001b[0;36m_cdata_res_to_rinterface.<locals>._\u001b[0;34m(*args, **kwargs)\u001b[0m\n\u001b[1;32m     44\u001b[0m \u001b[38;5;28;01mdef\u001b[39;00m \u001b[38;5;21m_\u001b[39m(\u001b[38;5;241m*\u001b[39margs, \u001b[38;5;241m*\u001b[39m\u001b[38;5;241m*\u001b[39mkwargs):\n\u001b[0;32m---> 45\u001b[0m     cdata \u001b[38;5;241m=\u001b[39m \u001b[43mfunction\u001b[49m\u001b[43m(\u001b[49m\u001b[38;5;241;43m*\u001b[39;49m\u001b[43margs\u001b[49m\u001b[43m,\u001b[49m\u001b[43m \u001b[49m\u001b[38;5;241;43m*\u001b[39;49m\u001b[38;5;241;43m*\u001b[39;49m\u001b[43mkwargs\u001b[49m\u001b[43m)\u001b[49m\n\u001b[1;32m     46\u001b[0m     \u001b[38;5;66;03m# TODO: test cdata is of the expected CType\u001b[39;00m\n\u001b[1;32m     47\u001b[0m     \u001b[38;5;28;01mreturn\u001b[39;00m _cdata_to_rinterface(cdata)\n",
      "File \u001b[0;32m~/opt/anaconda3/envs/sgl1/lib/python3.8/site-packages/rpy2/rinterface.py:680\u001b[0m, in \u001b[0;36mSexpClosure.__call__\u001b[0;34m(self, *args, **kwargs)\u001b[0m\n\u001b[1;32m    673\u001b[0m     res \u001b[38;5;241m=\u001b[39m rmemory\u001b[38;5;241m.\u001b[39mprotect(\n\u001b[1;32m    674\u001b[0m         openrlib\u001b[38;5;241m.\u001b[39mrlib\u001b[38;5;241m.\u001b[39mR_tryEval(\n\u001b[1;32m    675\u001b[0m             call_r,\n\u001b[1;32m    676\u001b[0m             call_context\u001b[38;5;241m.\u001b[39m__sexp__\u001b[38;5;241m.\u001b[39m_cdata,\n\u001b[1;32m    677\u001b[0m             error_occured)\n\u001b[1;32m    678\u001b[0m     )\n\u001b[1;32m    679\u001b[0m     \u001b[38;5;28;01mif\u001b[39;00m error_occured[\u001b[38;5;241m0\u001b[39m]:\n\u001b[0;32m--> 680\u001b[0m         \u001b[38;5;28;01mraise\u001b[39;00m embedded\u001b[38;5;241m.\u001b[39mRRuntimeError(_rinterface\u001b[38;5;241m.\u001b[39m_geterrmessage())\n\u001b[1;32m    681\u001b[0m \u001b[38;5;28;01mreturn\u001b[39;00m res\n",
      "\u001b[0;31mRRuntimeError\u001b[0m: Error in library.dynam(lib, package, package.lib) : \n  shared object ‘methods.dylib’ not found\n"
     ]
    }
   ],
   "source": [
    "import os\n",
    "os.environ['R_HOME'] = '/Users/yiqisu/opt/anaconda3/envs/sgl1/bin/R'\n",
    "\n",
    "from rpy2 import robjects"
   ]
  },
  {
   "cell_type": "code",
   "execution_count": 5,
   "metadata": {},
   "outputs": [],
   "source": [
    "from pysrc.evaluation import auc # to evaluate inference with auprc/auroc"
   ]
  },
  {
   "cell_type": "markdown",
   "metadata": {},
   "source": [
    "Next, we will read gene expression data and reference network."
   ]
  },
  {
   "cell_type": "code",
   "execution_count": 2,
   "metadata": {},
   "outputs": [],
   "source": [
    "# Data files\n",
    "expression_file = os.path.join(parent_dir, \"data/inputs/GSD/ExpressionData.csv\")\n",
    "ref_net_file = os.path.join(parent_dir, \"data/inputs/GSD/refNetwork.csv\")\n",
    "\n",
    "# Read data files\n",
    "expression_df = pd.read_csv(expression_file, index_col=0) \n",
    "ref_net_df = pd.read_csv(ref_net_file)"
   ]
  },
  {
   "cell_type": "markdown",
   "metadata": {},
   "source": [
    "Now, we infer a signed graph from the expression data, which is a $p\\times n$ dimensional matrix with\n",
    "p is the number of genes and n is the number of cells. For this, we need to determine two hyperparameters:\n",
    "$\\alpha_1$ and $\\alpha_2$. These parameters control the density of postive and negative part of the \n",
    "learned signed graph. Thus, instead of determining the hyperparameters, we can set the desired density\n",
    "and then search for $\\alpha_1$ and $\\alpha_2$ values that give the desired densities. In current\n",
    "implementation we use binary search to find $\\alpha_1$ and $\\alpha_2$ to obtain densities close to \n",
    "desired densities. Binary search can sometimes fail to find the values of $\\alpha_1$ and $\\alpha_2$\n",
    "that give close approximation for the desired density. In such cases, one can manually choose \n",
    "hyperparameters that will give the desired densities. As a future work, we intend to find an exact \n",
    "relation between hyperparameters and densities of the positive and negative parts as done in some\n",
    "recent works in graph signal processing literature. \n",
    "\n",
    "For this example, we will try to infer a signed graph with correlation kernel and we will set both\n",
    "desired positive and negative edge densities to 0.45, which is approximately the value we found for\n",
    "positive and negative edge densities using surrogate data approach described in the paper."
   ]
  },
  {
   "cell_type": "code",
   "execution_count": 21,
   "metadata": {},
   "outputs": [],
   "source": [
    "G = learn_signed_graph(expression_df.to_numpy(), pos_density=0.45, neg_density=0.45, \n",
    "                                assoc=\"correlation\", gene_names=np.array(expression_df.index))"
   ]
  },
  {
   "cell_type": "markdown",
   "metadata": {},
   "source": [
    "G is a dataframe with each row indicating an edge between two genes. Each edge is also associated \n",
    "with a weight, which is either positive or negative depending on the sign of the edge. We evaluate the\n",
    "inferred the graph using signed AUPRC:"
   ]
  },
  {
   "cell_type": "code",
   "execution_count": 22,
   "metadata": {},
   "outputs": [
    {
     "name": "stdout",
     "output_type": "stream",
     "text": [
      "{'+': 0.37632317608807087, '-': 0.16571191138881608}\n",
      "{'+': 0.7545796475586822, '-': 0.7256319811875367}\n"
     ]
    }
   ],
   "source": [
    "auprc, auroc, auprc_ratio, auroc_ratio = auc.signed(ref_net_df, G, \"directed\")\n",
    "print(auprc)\n",
    "print(auroc)"
   ]
  },
  {
   "cell_type": "markdown",
   "metadata": {},
   "source": [
    "### **References**\n",
    "\n",
    "[1] Pratapa, Aditya, et al. \"Benchmarking algorithms for gene regulatory network inference from \n",
    "single-cell transcriptomic data.\" Nature methods 17.2 (2020): 147-154."
   ]
  }
 ],
 "metadata": {
  "interpreter": {
   "hash": "fa6e5db0ad6794800a186766cfacd0049ecf1ad827c7c7ae7aa1d02f411d14bb"
  },
  "kernelspec": {
   "display_name": "sgl1",
   "language": "python",
   "name": "sgl1"
  },
  "language_info": {
   "codemirror_mode": {
    "name": "ipython",
    "version": 3
   },
   "file_extension": ".py",
   "mimetype": "text/x-python",
   "name": "python",
   "nbconvert_exporter": "python",
   "pygments_lexer": "ipython3",
   "version": "3.8.13"
  }
 },
 "nbformat": 4,
 "nbformat_minor": 2
}
